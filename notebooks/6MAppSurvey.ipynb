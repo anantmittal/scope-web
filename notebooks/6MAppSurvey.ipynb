{
 "cells": [
  {
   "cell_type": "code",
   "execution_count": null,
   "id": "08aac308-e109-400b-a6c5-ae819d638e30",
   "metadata": {
    "tags": []
   },
   "outputs": [],
   "source": [
    "import pandas as pd"
   ]
  },
  {
   "cell_type": "code",
   "execution_count": null,
   "id": "a07eeac4-b1b5-4e9b-9f5f-7df39cb8f99b",
   "metadata": {
    "tags": []
   },
   "outputs": [],
   "source": [
    "%pip install openpyxl"
   ]
  },
  {
   "cell_type": "code",
   "execution_count": null,
   "id": "0a9fd577-b2f0-4aea-bc03-09a948ea8b8a",
   "metadata": {
    "tags": []
   },
   "outputs": [],
   "source": [
    "!ls ../secrets/data"
   ]
  },
  {
   "cell_type": "markdown",
   "id": "2687a480-dd50-4007-b7ba-e466e130638c",
   "metadata": {},
   "source": []
  },
  {
   "cell_type": "code",
   "execution_count": null,
   "id": "76aa6766-237c-4dfa-9388-418bfe577755",
   "metadata": {
    "tags": []
   },
   "outputs": [],
   "source": [
    "app_satisfaction_df = pd.read_excel(\n",
    "    \"../secrets/data/08.15.23 -6M - APP Satisfaction Data  .xlsx\"\n",
    ")"
   ]
  },
  {
   "cell_type": "code",
   "execution_count": null,
   "id": "a7108bb2-1b85-49d0-8027-64c3df3a1e08",
   "metadata": {
    "tags": []
   },
   "outputs": [],
   "source": [
    "app_satisfaction_df.head()"
   ]
  },
  {
   "cell_type": "code",
   "execution_count": null,
   "id": "7e077df1-7965-4832-9612-814c4f72683e",
   "metadata": {
    "tags": []
   },
   "outputs": [],
   "source": [
    "app_satisfaction_df.shape"
   ]
  },
  {
   "cell_type": "code",
   "execution_count": null,
   "id": "8a5101a5-3822-4fd0-ab5f-85748effefab",
   "metadata": {
    "tags": []
   },
   "outputs": [],
   "source": [
    "list(app_satisfaction_df.columns)"
   ]
  },
  {
   "cell_type": "code",
   "execution_count": null,
   "id": "80e2402b-35df-469c-8310-015ebed622c1",
   "metadata": {
    "tags": []
   },
   "outputs": [],
   "source": [
    "app_satisfaction_df[\n",
    "    \"I recommend the SCOPE App be made available to all patients experiencing cancer and distress.\"\n",
    "].value_counts()"
   ]
  },
  {
   "cell_type": "code",
   "execution_count": null,
   "id": "51f22e1e-0bd1-4a4e-9f96-7a8ef38f394a",
   "metadata": {
    "tags": []
   },
   "outputs": [],
   "source": [
    "app_satisfaction_df[\n",
    "    \"The SCOPE App helped me become more engaged in my psychosocial care.\"\n",
    "].value_counts()"
   ]
  },
  {
   "cell_type": "code",
   "execution_count": null,
   "id": "8594a7e6-e4c1-4c2d-bf88-89423db96459",
   "metadata": {
    "tags": []
   },
   "outputs": [],
   "source": [
    "app_satisfaction_df[\n",
    "    \"The SCOPE App helped me monitor my moods and see the effects of various activities on my well being\"\n",
    "].value_counts()"
   ]
  },
  {
   "cell_type": "code",
   "execution_count": null,
   "id": "793da40e-bb31-4f1f-86e1-c9013ec5cd4d",
   "metadata": {
    "tags": []
   },
   "outputs": [],
   "source": [
    "app_satisfaction_df[\n",
    "    \"The SCOPE App helped me feel more cared for by my treatment team\"\n",
    "].value_counts()"
   ]
  },
  {
   "cell_type": "code",
   "execution_count": null,
   "id": "153a46b4-2319-4028-a113-0e263be0418d",
   "metadata": {
    "tags": []
   },
   "outputs": [],
   "source": [
    "app_satisfaction_df[\n",
    "    \"Overall, I am satisfied with my experience using the SCOPE App.\"\n",
    "].value_counts()"
   ]
  },
  {
   "cell_type": "code",
   "execution_count": null,
   "id": "0301e562-fd30-4d6f-a26a-7be8e81b0441",
   "metadata": {
    "tags": []
   },
   "outputs": [],
   "source": [
    "app_satisfaction_df[\n",
    "    \"How did the SCOPE App affect your relationship with your Social Worker?\"\n",
    "].value_counts()"
   ]
  },
  {
   "cell_type": "code",
   "execution_count": null,
   "id": "913e83da-44c2-446a-8f04-8dd5881ca012",
   "metadata": {
    "tags": []
   },
   "outputs": [],
   "source": [
    "app_satisfaction_df[\n",
    "    \"Did your internet or phone plan affect your use of the SCOPE App?  \"\n",
    "].value_counts()"
   ]
  },
  {
   "cell_type": "markdown",
   "id": "299b7d5e-ab5b-43f8-98bd-7e5896fea3e0",
   "metadata": {},
   "source": [
    "# Implementation Science"
   ]
  },
  {
   "cell_type": "code",
   "execution_count": null,
   "id": "0e3d3758-33d3-4774-8706-d15ea66ce7c6",
   "metadata": {
    "tags": []
   },
   "outputs": [],
   "source": [
    "implementation_science_questions = [\n",
    "    \"What the SCOPE App offers Video (link in email)\",\n",
    "    \"Getting Started with the App Guide\",\n",
    "    \"Using the SCOPE App Guide\",\n",
    "    \"SCOPE Study email communications\",\n",
    "]"
   ]
  },
  {
   "cell_type": "code",
   "execution_count": null,
   "id": "08fbedd5-d0e4-4264-ad75-7ac8c5ba0206",
   "metadata": {
    "tags": []
   },
   "outputs": [],
   "source": [
    "for isq in implementation_science_questions:\n",
    "    # print(flq)\n",
    "    display(app_satisfaction_df[isq].value_counts())"
   ]
  },
  {
   "cell_type": "markdown",
   "id": "07e003bb-b0ab-45a4-ba8a-30ccd176d211",
   "metadata": {},
   "source": [
    "# Intervention + SUS"
   ]
  },
  {
   "cell_type": "code",
   "execution_count": null,
   "id": "f39545d3-f2b5-4d77-889e-3ba6b445b3da",
   "metadata": {
    "tags": []
   },
   "outputs": [],
   "source": [
    "usability_intervention_questions = [\n",
    "    \"The App is appealing to me\",\n",
    "    \"The App seems suitable\",\n",
    "    \"The App seems easy to use\",\n",
    "    \"I think I would like to use the App frequently\",\n",
    "    \"I found the App unnecessarily complex\",\n",
    "    \"I thought the App was easy to use\",\n",
    "    \"I think that I would need the support of an expert consultant to be able to use the App.\",\n",
    "    \"I found the various components of the App were well integrated.\",\n",
    "    \"I thought there was too much inconsistency in the App\",\n",
    "    \"I would imagine that most people would learn to use the App very quickly\",\n",
    "    \"I found the App very cumbersome to use\",\n",
    "    \"I felt very confident using the App\",\n",
    "    \"I needed to learn a lot of things before I could get going with the App\",\n",
    "]"
   ]
  },
  {
   "cell_type": "code",
   "execution_count": null,
   "id": "1431f4e5-4060-4636-a86b-c4c0ee50217b",
   "metadata": {
    "tags": []
   },
   "outputs": [],
   "source": [
    "for uiq in usability_intervention_questions:\n",
    "    # print(flq)\n",
    "    display(app_satisfaction_df[uiq].value_counts())\n",
    "    print(\"\\n\")"
   ]
  },
  {
   "cell_type": "markdown",
   "id": "34ce47f7-fb91-4b05-9db1-dd4f65ebb588",
   "metadata": {},
   "source": [
    "# App Features"
   ]
  },
  {
   "cell_type": "code",
   "execution_count": null,
   "id": "7ca06ede-637d-40f0-8f53-4c953814366e",
   "metadata": {
    "tags": []
   },
   "outputs": [],
   "source": [
    "features_list_questions = [\n",
    "    \"Completing depression and anxiety and check-ins\",\n",
    "    \"Logging your mood\",\n",
    "    \"Completing Values and Activities Inventory\",\n",
    "    \"Scheduling an activity\",\n",
    "    \"Logging whether or not you have completed a scheduled activity\",\n",
    "    \"Preparing a Safety Plan\",\n",
    "    \"Viewing and managing scheduled activities\",\n",
    "    \"Viewing depression and anxiety check-ins\",\n",
    "    \"Viewing logged activity data\",\n",
    "    \"Viewing logged mood data\",\n",
    "    \"Viewing shared documents and educational resources\",\n",
    "    \"Viewing crisis help resources\",\n",
    "]"
   ]
  },
  {
   "cell_type": "code",
   "execution_count": null,
   "id": "688e59eb-d567-463c-a680-567107cca801",
   "metadata": {
    "tags": []
   },
   "outputs": [],
   "source": [
    "for flq in features_list_questions:\n",
    "    # print(flq)\n",
    "    display(app_satisfaction_df[flq].value_counts())"
   ]
  },
  {
   "cell_type": "code",
   "execution_count": null,
   "id": "9dd92817-e1e7-4f34-935f-1c7afad90f8c",
   "metadata": {
    "tags": []
   },
   "outputs": [],
   "source": [
    "app_satisfaction_df.columns"
   ]
  },
  {
   "cell_type": "code",
   "execution_count": null,
   "id": "6fa863ae-f830-4626-8a1f-2c9834e94c58",
   "metadata": {},
   "outputs": [],
   "source": []
  },
  {
   "cell_type": "code",
   "execution_count": null,
   "id": "9e6d2c0a-68fb-42d6-8628-da25d09f4db3",
   "metadata": {},
   "outputs": [],
   "source": []
  },
  {
   "cell_type": "markdown",
   "id": "695fd40a-9ff4-4fca-82ba-74f8a8a469a6",
   "metadata": {},
   "source": [
    "# Supplemental"
   ]
  },
  {
   "cell_type": "code",
   "execution_count": null,
   "id": "1960f1cc-abcb-46c9-85e3-06860a80ed84",
   "metadata": {
    "tags": []
   },
   "outputs": [],
   "source": [
    "supp_df = pd.read_excel(\"../secrets/data/08.15.23 - 6M - BS Supplemental Data .xlsx\")"
   ]
  },
  {
   "cell_type": "code",
   "execution_count": null,
   "id": "2aa15462-8b28-4691-ae47-f513ba3df49b",
   "metadata": {
    "tags": []
   },
   "outputs": [],
   "source": [
    "supp_df.head()"
   ]
  },
  {
   "cell_type": "code",
   "execution_count": null,
   "id": "52b6e5a9-3f5b-44a8-8a81-305c6f3c8523",
   "metadata": {
    "tags": []
   },
   "outputs": [],
   "source": [
    "supp_df[\"Date Difference - Login time and assigned time\"] = (\n",
    "    supp_df[\n",
    "        \"Date Pts LOGGED-IN CONFIRMED (Assessed weekly by Tech Team or determined by RS Call)\"\n",
    "    ]\n",
    "    - supp_df[\"Date - App assigned to Patient\"]\n",
    ")"
   ]
  },
  {
   "cell_type": "code",
   "execution_count": null,
   "id": "1ba4cf83-a740-4061-95a9-e7fa2d5586d0",
   "metadata": {},
   "outputs": [],
   "source": []
  },
  {
   "cell_type": "code",
   "execution_count": null,
   "id": "2efcb3c7-8221-465c-8675-edc24d87f158",
   "metadata": {
    "tags": []
   },
   "outputs": [],
   "source": [
    "supp_df.dtypes"
   ]
  },
  {
   "cell_type": "code",
   "execution_count": null,
   "id": "5933de3c-886f-41f1-a8c7-344ca2d10cb8",
   "metadata": {
    "tags": []
   },
   "outputs": [],
   "source": [
    "supp_df[\"Date Difference - Login time and assigned time\"]"
   ]
  },
  {
   "cell_type": "code",
   "execution_count": null,
   "id": "816ba6b4-9029-4e43-870c-9b053fafb512",
   "metadata": {},
   "outputs": [],
   "source": []
  }
 ],
 "metadata": {
  "kernelspec": {
   "display_name": "Python 3 (ipykernel)",
   "language": "python",
   "name": "python3"
  },
  "language_info": {
   "codemirror_mode": {
    "name": "ipython",
    "version": 3
   },
   "file_extension": ".py",
   "mimetype": "text/x-python",
   "name": "python",
   "nbconvert_exporter": "python",
   "pygments_lexer": "ipython3",
   "version": "3.9.12"
  }
 },
 "nbformat": 4,
 "nbformat_minor": 5
}
