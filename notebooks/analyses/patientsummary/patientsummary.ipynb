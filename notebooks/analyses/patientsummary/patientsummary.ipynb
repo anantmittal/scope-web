{
 "cells": [
  {
   "cell_type": "markdown",
   "id": "61593d0f-147b-4e8a-beaf-cd976cc6baee",
   "metadata": {
    "tags": []
   },
   "source": [
    "# Patient Summary\n",
    "\n",
    "A notebook summarizing patient data."
   ]
  },
  {
   "cell_type": "markdown",
   "id": "a02e6585-0e45-4a7c-9b1a-69def1590cb7",
   "metadata": {
    "tags": []
   },
   "source": [
    "## Imports"
   ]
  },
  {
   "cell_type": "code",
   "execution_count": null,
   "id": "41a14340-9b0a-463e-a054-b5229a570e74",
   "metadata": {
    "tags": []
   },
   "outputs": [],
   "source": [
    "import itertools\n",
    "import json\n",
    "import operator\n",
    "import pathlib\n",
    "\n",
    "import pandas as pd\n",
    "from scope.documents import document_set\n",
    "from scope.populate.data.archive import Archive"
   ]
  },
  {
   "cell_type": "markdown",
   "id": "42c182cd-b385-4251-8c92-32bd4f985b44",
   "metadata": {},
   "source": [
    "## Obtain Archive Password "
   ]
  },
  {
   "cell_type": "code",
   "execution_count": null,
   "id": "03f7154a-6053-44d7-b6f4-504cfc4d0d17",
   "metadata": {
    "tags": []
   },
   "outputs": [],
   "source": [
    "# Obtain password to encrypted archives.\n",
    "archive_password = input(\"Encrypted archive password: \")"
   ]
  },
  {
   "cell_type": "markdown",
   "id": "58ceb04f-07fb-40a2-9d84-ddfa9dc132a0",
   "metadata": {},
   "source": [
    "## Obtain Archive Paths"
   ]
  },
  {
   "cell_type": "code",
   "execution_count": null,
   "id": "5bc41dd1-4a40-4256-8ba8-8c34486c1021",
   "metadata": {
    "tags": []
   },
   "outputs": [],
   "source": [
    "# Obtain full path to encrypted archives.\n",
    "\n",
    "# Start with name of each archive.\n",
    "archive_multicare_file_name = \"archive_multicare_v0.8.0_20230821.zip\"\n",
    "archive_scca_file_name = \"archive_scca_v0.8.0_20230821.zip\"\n",
    "\n",
    "# Obtain a full path to encrypted archive, relative to the location of the notebook.\n",
    "# Expects the encrypted archive to be in the \"secrets/data\" directory.\n",
    "archive_multicare_path = pathlib.Path(\n",
    "    \"../../../secrets/data\",\n",
    "    archive_multicare_file_name,\n",
    ")\n",
    "archive_scca_path = pathlib.Path(\n",
    "    \"../../../secrets/data\",\n",
    "    archive_scca_file_name,\n",
    ")"
   ]
  },
  {
   "cell_type": "markdown",
   "id": "44ff265d-ed78-49b9-981f-96aff3c79488",
   "metadata": {},
   "source": [
    "## Decrypt Archives"
   ]
  },
  {
   "cell_type": "code",
   "execution_count": null,
   "id": "547b0534-3a2a-4848-ab99-6532ca3b7676",
   "metadata": {
    "tags": []
   },
   "outputs": [],
   "source": [
    "print(\"Decrypting archive:\")\n",
    "print(\"{}\".format(archive_multicare_path.resolve()))\n",
    "\n",
    "# Obtain the archive.\n",
    "archive_multicare = Archive.read_archive(\n",
    "    archive_path=archive_multicare_path,\n",
    "    password=archive_password,\n",
    ")\n",
    "\n",
    "print(\"{} documents.\".format(len(archive_multicare.entries.values())))"
   ]
  },
  {
   "cell_type": "code",
   "execution_count": null,
   "id": "4cf23209-991b-48dd-bea2-402673763a28",
   "metadata": {
    "tags": []
   },
   "outputs": [],
   "source": [
    "print(\"Decrypting archive:\")\n",
    "print(\"{}\".format(archive_scca_path.resolve()))\n",
    "\n",
    "# Obtain the archive.\n",
    "archive_scca = Archive.read_archive(\n",
    "    archive_path=archive_scca_path,\n",
    "    password=archive_password,\n",
    ")\n",
    "\n",
    "print(\"{} documents.\".format(len(archive_scca.entries.values())))"
   ]
  },
  {
   "cell_type": "markdown",
   "id": "d7f73156-10d5-4019-970c-f02ea8b8dd5b",
   "metadata": {},
   "source": [
    "## Obtain Patient Datatable\n",
    "\n",
    "Unify patient documents from the two databases."
   ]
  },
  {
   "cell_type": "code",
   "execution_count": null,
   "id": "a24e6366-e7b0-4f3c-812b-033905a4cc2c",
   "metadata": {
    "tags": []
   },
   "outputs": [],
   "source": [
    "# Get patient documents from MultiCare.\n",
    "documents_multicare_patients = (\n",
    "    archive_multicare.collection_documents(\n",
    "        collection=\"patients\",\n",
    "    )\n",
    "    .remove_sentinel()\n",
    "    .remove_revisions()\n",
    ")\n",
    "df_multicare_patients = pd.DataFrame.from_records(\n",
    "    documents_multicare_patients.documents\n",
    ")\n",
    "df_multicare_patients[\"database\"] = \"multicare\"\n",
    "\n",
    "# Get patient documents from SCCA.\n",
    "documents_scca_patients = (\n",
    "    archive_scca.collection_documents(\n",
    "        collection=\"patients\",\n",
    "    )\n",
    "    .remove_sentinel()\n",
    "    .remove_revisions()\n",
    ")\n",
    "df_scca_patients = pd.DataFrame.from_records(documents_scca_patients.documents)\n",
    "df_scca_patients[\"database\"] = \"scca\"\n",
    "\n",
    "# Unify all current patient documents.\n",
    "df_patients = pd.concat([df_multicare_patients, df_scca_patients]).reset_index()"
   ]
  },
  {
   "cell_type": "code",
   "execution_count": null,
   "id": "e4c1dec2-f5aa-4869-8fa0-0656e9233426",
   "metadata": {
    "tags": []
   },
   "outputs": [],
   "source": [
    "# Create a helper for accessing the document collection of a unified patient.\n",
    "def patient_documents(row_patient) -> document_set.DocumentSet:\n",
    "    if row_patient[\"database\"] == \"multicare\":\n",
    "        archive = archive_multicare\n",
    "    elif row_patient[\"database\"] == \"scca\":\n",
    "        archive = archive_scca\n",
    "    else:\n",
    "        raise ValueError()\n",
    "\n",
    "    return archive.collection_documents(collection=row_patient[\"collection\"])"
   ]
  },
  {
   "cell_type": "markdown",
   "id": "de7038f7-35aa-4cdd-9024-e0247c118838",
   "metadata": {},
   "source": [
    "## Filter Pilot Patients\n",
    "\n",
    "Remove the 6 pilot patients."
   ]
  },
  {
   "cell_type": "code",
   "execution_count": null,
   "id": "c09f432d-8e6b-4039-97da-fc2d9bef3dae",
   "metadata": {
    "tags": []
   },
   "outputs": [],
   "source": [
    "df_patients = df_patients.drop(\n",
    "    df_patients[\n",
    "        df_patients[\"patientId\"].isin(\n",
    "            [\n",
    "                \"ymzwx6e6w6kqi\",\n",
    "                \"mmmb54v52l7re\",\n",
    "                \"ouoa4ucldbhie\",\n",
    "                \"zazst4yu23a5q\",\n",
    "                \"wf4btxqjtd2oa\",\n",
    "                \"s3bcmgmp7gdss\",\n",
    "            ]\n",
    "        )\n",
    "    ].index\n",
    ").reset_index()"
   ]
  },
  {
   "cell_type": "markdown",
   "id": "083ebb39-822d-4b55-9746-7d59c78bb103",
   "metadata": {},
   "source": [
    "## Filter Patient Columns\n",
    "\n",
    "Filter columns to those which are most relevant."
   ]
  },
  {
   "cell_type": "code",
   "execution_count": null,
   "id": "978d026b-f78c-42a9-9021-aa2df7c310ca",
   "metadata": {
    "tags": []
   },
   "outputs": [],
   "source": [
    "# Filter columns.\n",
    "df_patients = df_patients[\n",
    "    [\n",
    "        \"database\",\n",
    "        \"patientId\",\n",
    "        \"collection\",\n",
    "        \"name\",\n",
    "    ]\n",
    "]"
   ]
  },
  {
   "cell_type": "markdown",
   "id": "be17b98c-9045-4f73-a26c-523c41936498",
   "metadata": {},
   "source": [
    "# Summarize Patients"
   ]
  },
  {
   "cell_type": "code",
   "execution_count": null,
   "id": "61a7c73c-d867-4828-9418-ebf26b9bac0f",
   "metadata": {
    "tags": []
   },
   "outputs": [],
   "source": [
    "# Iterate over all raw documents to build a list of known document types.\n",
    "document_types = {\n",
    "    document_current[\"_type\"]\n",
    "    for document_current in itertools.chain(\n",
    "        archive_multicare.entries.values(),\n",
    "        archive_scca.entries.values(),\n",
    "    )\n",
    "}\n",
    "\n",
    "sorted(document_types)"
   ]
  },
  {
   "cell_type": "code",
   "execution_count": null,
   "id": "b0f4dc0c-fe0d-4415-b58f-c1a6d3490e3a",
   "metadata": {
    "tags": []
   },
   "outputs": [],
   "source": [
    "def apply_num_documents(row_patient):\n",
    "    patient_collection = patient_documents(row_patient)\n",
    "    patient_collection = patient_collection.remove_sentinel()\n",
    "\n",
    "    # Overall number of unique documents.\n",
    "    # This includes revisions and even deletion markers.\n",
    "    row_patient[\"numDocumentRevisions\"] = len(patient_collection.documents)\n",
    "\n",
    "    # Group documents by their key.\n",
    "    # For singleton document types, this is the type.\n",
    "    # For set document types, this is the type plus the set id.\n",
    "    document_keys = patient_collection.group_revisions().keys()\n",
    "    row_patient[\"numDocuments\"] = len(document_keys)\n",
    "\n",
    "    # Calculate counts of certain document types.\n",
    "    # Because this is calculated using group_revisions(),\n",
    "    # it counts documents that may have evolved over time (including possible deletion).\n",
    "    DOCUMENT_COUNTS = [\n",
    "        (\"numActivityDocuments\", \"activity\"),\n",
    "        (\"numActivityLogDocuments\", \"activityLog\"),\n",
    "        (\"numAssessmentLogDocuments\", \"assessmentLog\"),\n",
    "        (\"numMoodLogDocuments\", \"moodLog\"),\n",
    "        (\"numValueDocuments\", \"value\"),\n",
    "    ]\n",
    "    for document_count_current in DOCUMENT_COUNTS:\n",
    "        row_patient[document_count_current[0]] = len(\n",
    "            [\n",
    "                key_current\n",
    "                for key_current in document_keys\n",
    "                if key_current[0] == document_count_current[1]\n",
    "            ]\n",
    "        )\n",
    "\n",
    "    return row_patient"
   ]
  },
  {
   "cell_type": "code",
   "execution_count": null,
   "id": "4c06d0b4-d0c1-4f9b-97fa-279738c8fdc5",
   "metadata": {
    "tags": []
   },
   "outputs": [],
   "source": [
    "df_patients = df_patients.apply(apply_num_documents, axis=\"columns\")"
   ]
  },
  {
   "cell_type": "markdown",
   "id": "e7930b0b-3edb-4144-9d7d-341d884bfc60",
   "metadata": {},
   "source": [
    "## Display Patients"
   ]
  },
  {
   "cell_type": "code",
   "execution_count": null,
   "id": "4567d585-9f89-4ba8-a060-dc782f4a5b4d",
   "metadata": {
    "tags": []
   },
   "outputs": [],
   "source": [
    "with pd.option_context(\n",
    "    \"display.max_rows\",\n",
    "    None,\n",
    "    \"display.max_columns\",\n",
    "    None,\n",
    "    \"display.width\",\n",
    "    None,\n",
    "):\n",
    "    display(\n",
    "        df_patients.drop(\n",
    "            [\n",
    "                # Intentionally do not display patient names.\n",
    "                \"name\",\n",
    "            ],\n",
    "            axis=\"columns\",\n",
    "        )\n",
    "    )"
   ]
  },
  {
   "cell_type": "markdown",
   "id": "8b0f0f54-a78a-4112-96f0-58bcf2b134b6",
   "metadata": {},
   "source": [
    "## Output CSV"
   ]
  },
  {
   "cell_type": "code",
   "execution_count": null,
   "id": "82c58c6d-d6e2-40e9-bc67-82dfe258b6ea",
   "metadata": {
    "tags": []
   },
   "outputs": [],
   "source": [
    "df_patients.drop(\n",
    "    [\n",
    "        # Intentionally do not export patient names.\n",
    "        \"name\",\n",
    "    ],\n",
    "    axis=\"columns\",\n",
    ").to_csv(\"patientsummary-export.csv\")"
   ]
  }
 ],
 "metadata": {
  "kernelspec": {
   "display_name": "Python 3 (ipykernel)",
   "language": "python",
   "name": "python3"
  },
  "language_info": {
   "codemirror_mode": {
    "name": "ipython",
    "version": 3
   },
   "file_extension": ".py",
   "mimetype": "text/x-python",
   "name": "python",
   "nbconvert_exporter": "python",
   "pygments_lexer": "ipython3",
   "version": "3.9.5"
  }
 },
 "nbformat": 4,
 "nbformat_minor": 5
}
