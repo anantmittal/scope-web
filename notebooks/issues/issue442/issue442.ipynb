{
 "cells": [
  {
   "cell_type": "markdown",
   "id": "61593d0f-147b-4e8a-beaf-cd976cc6baee",
   "metadata": {
    "tags": []
   },
   "source": [
    "# Issue 442\n",
    "\n",
    "We observed a social worker appearing twice in the registry.\n",
    "\n",
    "This notebook investigates that report. We initially speculate the provider has actually been created twice, then confirm that in documents."
   ]
  },
  {
   "cell_type": "markdown",
   "id": "a02e6585-0e45-4a7c-9b1a-69def1590cb7",
   "metadata": {
    "tags": []
   },
   "source": [
    "## Imports"
   ]
  },
  {
   "cell_type": "code",
   "execution_count": null,
   "id": "41a14340-9b0a-463e-a054-b5229a570e74",
   "metadata": {},
   "outputs": [],
   "source": [
    "import json\n",
    "import operator\n",
    "import pathlib\n",
    "\n",
    "import pandas as pd\n",
    "from IPython.display import HTML\n",
    "from scope.documents import document_set\n",
    "from scope.populate.data.archive import Archive"
   ]
  },
  {
   "cell_type": "markdown",
   "id": "42c182cd-b385-4251-8c92-32bd4f985b44",
   "metadata": {},
   "source": [
    "## Obtain Archive "
   ]
  },
  {
   "cell_type": "code",
   "execution_count": null,
   "id": "30c649b2-ae85-420c-81e0-5a9f25f7712d",
   "metadata": {
    "tags": []
   },
   "outputs": [],
   "source": [
    "# Provide full path to encrypted archive.\n",
    "# archive_file_name = input(\"Encrypted archive file name: \")\n",
    "archive_file_name = \"archive_scca_v0.7.0_20230702_final.zip\"\n",
    "\n",
    "# Provide password to encrypted archive.\n",
    "archive_password = input(\"Encrypted archive password: \")\n",
    "\n",
    "# Obtain a full path to encrypted archive, relative to the location of the notebook.\n",
    "# Expects the encrypted archive to be in the \"secrets/data\" directory.\n",
    "archive_path = pathlib.Path(\n",
    "    \"../../../secrets/data\",\n",
    "    archive_file_name,\n",
    ")"
   ]
  },
  {
   "cell_type": "code",
   "execution_count": null,
   "id": "547b0534-3a2a-4848-ab99-6532ca3b7676",
   "metadata": {},
   "outputs": [],
   "source": [
    "print(\"Decrypting archive:\")\n",
    "print(\"{}\".format(archive_path.resolve()))\n",
    "\n",
    "# Obtain the archive.\n",
    "archive = Archive.read_archive(\n",
    "    archive_path=archive_path,\n",
    "    password=archive_password,\n",
    ")\n",
    "\n",
    "print(\"Decryption complete.\")"
   ]
  },
  {
   "cell_type": "markdown",
   "id": "d7f73156-10d5-4019-970c-f02ea8b8dd5b",
   "metadata": {},
   "source": [
    "## Obtain Providers Documents\n",
    "\n",
    "Later cells will further filter and inspect these documents."
   ]
  },
  {
   "cell_type": "code",
   "execution_count": null,
   "id": "a24e6366-e7b0-4f3c-812b-033905a4cc2c",
   "metadata": {},
   "outputs": [],
   "source": [
    "# Obtain all documents in the \"providers\" collection.\n",
    "documents_providers = archive.collection_documents(\n",
    "    collection=\"providers\",\n",
    ")\n",
    "\n",
    "# Filter out the sentinel.\n",
    "documents_providers = documents_providers.remove_sentinel()"
   ]
  },
  {
   "cell_type": "markdown",
   "id": "179ab4f7-46d7-4f61-9e69-661264ecfd5e",
   "metadata": {},
   "source": [
    "## Identify Duplicate Providers\n",
    "\n",
    "Obtain all the current providers to visually determine if there is a duplicate."
   ]
  },
  {
   "cell_type": "code",
   "execution_count": null,
   "id": "111665fe-8d76-4656-ba01-f78cd5e07522",
   "metadata": {},
   "outputs": [],
   "source": [
    "# Filter out old revisions.\n",
    "documents_current = documents_providers.remove_revisions()\n",
    "\n",
    "# Convert to dataframe.\n",
    "df_current = pd.DataFrame.from_records(documents_current.documents)\n",
    "\n",
    "# Filter to relevant columns.\n",
    "df_current = df_current[\n",
    "    [\n",
    "        \"name\",\n",
    "        \"providerId\",\n",
    "    ]\n",
    "]\n",
    "\n",
    "# Sort for inspection.\n",
    "df_current = df_current.sort_values(\n",
    "    [\n",
    "        \"name\",\n",
    "        \"providerId\",\n",
    "    ]\n",
    ")\n",
    "\n",
    "HTML(df_current.to_html(index=False))"
   ]
  },
  {
   "cell_type": "markdown",
   "id": "0335b35f-cd68-4366-b6ce-09dd9e64b010",
   "metadata": {},
   "source": [
    "## Inspect Duplicates\n",
    "\n",
    "The above confirms a duplicate provider with two distinct providerId.\n",
    "\n",
    "Inspect the history of those documents. Confirm the first was created on 2022-03-28, then a duplicate on 2022-08-29."
   ]
  },
  {
   "cell_type": "code",
   "execution_count": null,
   "id": "fc6896af-25fd-496e-a822-7817c55c3c78",
   "metadata": {},
   "outputs": [],
   "source": [
    "documents_bfi3jrlzu7ygu = documents_providers.filter_match(\n",
    "    match_values={\n",
    "        \"providerId\": \"bfi3jrlzu7ygu\",\n",
    "    }\n",
    ").order_by_revision()\n",
    "\n",
    "for document_current in documents_bfi3jrlzu7ygu:\n",
    "    print(document_set.datetime_from_document(document=document_current))\n",
    "    print(json.dumps(document_current, indent=2))"
   ]
  },
  {
   "cell_type": "code",
   "execution_count": null,
   "id": "c8326459-02c7-407a-9540-c2ad80bc6ca9",
   "metadata": {},
   "outputs": [],
   "source": [
    "documents_jg6bdxyte6nwk = documents_providers.filter_match(\n",
    "    match_values={\n",
    "        \"providerId\": \"jg6bdxyte6nwk\",\n",
    "    }\n",
    ").order_by_revision()\n",
    "\n",
    "for document_current in documents_jg6bdxyte6nwk:\n",
    "    print(document_set.datetime_from_document(document=document_current))\n",
    "    print(json.dumps(document_current, indent=2))"
   ]
  },
  {
   "cell_type": "markdown",
   "id": "fedfbfd4-c365-4758-8730-a69cf1d22028",
   "metadata": {
    "tags": []
   },
   "source": [
    "## Inspect References\n",
    "\n",
    "Inspect all documents that reference the two providerId.\n",
    "\n",
    "We will want to understand this when preparing a fix during data migration."
   ]
  },
  {
   "cell_type": "code",
   "execution_count": null,
   "id": "cabf80a0-2dc6-4a28-b761-505b5de43c9b",
   "metadata": {},
   "outputs": [],
   "source": [
    "# Any document that contains the providerId.\n",
    "documents_bfi3jrlzu7ygu_references = document_set.DocumentSet(\n",
    "    documents=[\n",
    "        document_current\n",
    "        for document_current in archive.entries.values()\n",
    "        if \"bfi3jrlzu7ygu\" in json.dumps(document_current)\n",
    "    ]\n",
    ")\n",
    "\n",
    "# But not the providerIdentity documents themselves.\n",
    "documents_bfi3jrlzu7ygu_references = documents_bfi3jrlzu7ygu_references.remove_all(documents=documents_bfi3jrlzu7ygu)\n",
    "\n",
    "print(\"{} references\".format(len(documents_bfi3jrlzu7ygu_references)))"
   ]
  },
  {
   "cell_type": "code",
   "execution_count": null,
   "id": "6f4b1b9c-be5e-492d-b603-a3490d512c0a",
   "metadata": {},
   "outputs": [],
   "source": [
    "# Any document that contains the providerId.\n",
    "documents_jg6bdxyte6nwk_references = document_set.DocumentSet(\n",
    "    documents=[\n",
    "        document_current\n",
    "        for document_current in archive.entries.values()\n",
    "        if \"jg6bdxyte6nwk\" in json.dumps(document_current)\n",
    "    ]\n",
    ")\n",
    "\n",
    "# But not the providerIdentity documents themselves.\n",
    "documents_jg6bdxyte6nwk_references = documents_jg6bdxyte6nwk_references.remove_all(documents=documents_jg6bdxyte6nwk)\n",
    "\n",
    "print(\"{} references\".format(len(documents_jg6bdxyte6nwk_references)))"
   ]
  }
 ],
 "metadata": {
  "kernelspec": {
   "display_name": "Python 3 (ipykernel)",
   "language": "python",
   "name": "python3"
  },
  "language_info": {
   "codemirror_mode": {
    "name": "ipython",
    "version": 3
   },
   "file_extension": ".py",
   "mimetype": "text/x-python",
   "name": "python",
   "nbconvert_exporter": "python",
   "pygments_lexer": "ipython3",
   "version": "3.9.6"
  }
 },
 "nbformat": 4,
 "nbformat_minor": 5
}
